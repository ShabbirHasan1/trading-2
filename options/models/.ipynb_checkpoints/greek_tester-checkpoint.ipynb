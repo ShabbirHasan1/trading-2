{
 "cells": [
  {
   "cell_type": "code",
   "execution_count": 1,
   "metadata": {},
   "outputs": [],
   "source": [
    "import sys\n",
    "sys.path.append(\"./\")"
   ]
  },
  {
   "cell_type": "code",
   "execution_count": 2,
   "metadata": {},
   "outputs": [],
   "source": [
    "import py_vollib\n",
    "import volFunction as vfunc\n",
    "from bs_pricing import BlackScholes\n",
    "import numpy as np\n",
    "import pandas as pd\n",
    "\n",
    "pd.set_option(\"display.width\", 1000)\n",
    "pd.set_option(\"display.max_columns\", 2000)"
   ]
  },
  {
   "cell_type": "code",
   "execution_count": 3,
   "metadata": {},
   "outputs": [],
   "source": [
    "# variables\n",
    "K = 2.90\n",
    "r = 0.03\n",
    "tau = 8./365\n",
    "isCall = True\n",
    "optPx = 0.02820\n",
    "flag = \"c\"\n",
    "numDaysPerYear = 365\n",
    "spot = 2.8745\n",
    "vol = 0.227984\n",
    "\n",
    "opt_tick_incr = 0.0001\n",
    "spot_tick_incr = 0.001\n",
    "opt_tick_value = 1 # in RMB\n",
    "spot_tick_value = 1 # in RMB"
   ]
  },
  {
   "cell_type": "code",
   "execution_count": 4,
   "metadata": {
    "scrolled": false
   },
   "outputs": [],
   "source": [
    "# import csv\n",
    "df = pd.read_csv(\"../10001107_20180320__greek.csv\")"
   ]
  },
  {
   "cell_type": "code",
   "execution_count": 5,
   "metadata": {},
   "outputs": [],
   "source": [
    "greeks = vfunc.getOptionVol(flag, spot, K, tau, r, optPx)"
   ]
  },
  {
   "cell_type": "code",
   "execution_count": 6,
   "metadata": {},
   "outputs": [
    {
     "name": "stdout",
     "output_type": "stream",
     "text": [
      "                     derek\n",
      "underlyingPrice   2.874500\n",
      "optionPrice       0.028200\n",
      "vol               0.227984\n",
      "delta             0.410868\n",
      "gamma             4.008858\n",
      "theta            -0.002453\n",
      "vega              0.001655\n",
      "rho               0.000253\n",
      "vanna             0.441969\n",
      "vomma             0.000424\n",
      "charm            -2.644335\n",
      "veta             -4.029447\n",
      "speed             7.915208\n",
      "zomma           -16.557532\n",
      "color            85.311080\n"
     ]
    }
   ],
   "source": [
    "greekCols = [\"underlyingPrice\", \"optionPrice\", \"vol\", \"delta\", \"gamma\", \n",
    "             \"theta\", \"vega\", \"rho\", \"vanna\",\n",
    "             \"vomma\", \"charm\", \"veta\", \"speed\", \"zomma\", \"color\"]\n",
    "derek_greeks = pd.DataFrame(data=list(greeks), columns=[\"derek\"], index=greekCols)\n",
    "print(derek_greeks)"
   ]
  },
  {
   "cell_type": "code",
   "execution_count": 7,
   "metadata": {},
   "outputs": [
    {
     "name": "stdout",
     "output_type": "stream",
     "text": [
      "0.02819995901015604\n"
     ]
    }
   ],
   "source": [
    "bsp = BlackScholes(spotTickValue=spot_tick_value, spotTickIncr=spot_tick_incr, numDaysPerYear=numDaysPerYear)\n",
    "call_px = bsp.calc_call(spot, K, r, vol, tau)\n",
    "print(call_px)"
   ]
  },
  {
   "cell_type": "code",
   "execution_count": 8,
   "metadata": {},
   "outputs": [
    {
     "name": "stdout",
     "output_type": "stream",
     "text": [
      "0.00041086760871584567\n"
     ]
    }
   ],
   "source": [
    "delta = bsp.calc_delta(spot, K, r, vol, tau, isCall)\n",
    "print(delta)"
   ]
  },
  {
   "cell_type": "code",
   "execution_count": 9,
   "metadata": {},
   "outputs": [
    {
     "name": "stdout",
     "output_type": "stream",
     "text": [
      "4.00886161947823\n"
     ]
    }
   ],
   "source": [
    "gamma = bsp.calc_gamma(spot, K, r, vol, tau, isCall)\n",
    "print(gamma)"
   ]
  },
  {
   "cell_type": "code",
   "execution_count": 10,
   "metadata": {},
   "outputs": [
    {
     "name": "stdout",
     "output_type": "stream",
     "text": [
      "-0.0024532304762406257\n"
     ]
    }
   ],
   "source": [
    "theta = bsp.calc_theta(spot, K, r, vol, tau, isCall)\n",
    "print(theta)"
   ]
  },
  {
   "cell_type": "code",
   "execution_count": 11,
   "metadata": {},
   "outputs": [
    {
     "name": "stdout",
     "output_type": "stream",
     "text": [
      "0.001655187442830446\n"
     ]
    }
   ],
   "source": [
    "vega = bsp.calc_vega(spot, K, r, vol, tau, isCall)\n",
    "print(vega)"
   ]
  },
  {
   "cell_type": "code",
   "execution_count": 12,
   "metadata": {},
   "outputs": [
    {
     "name": "stdout",
     "output_type": "stream",
     "text": [
      "0.0002526770372040641\n"
     ]
    }
   ],
   "source": [
    "rho = bsp.calc_rho(spot, K, r, vol, tau, isCall)\n",
    "print(rho)"
   ]
  },
  {
   "cell_type": "code",
   "execution_count": 13,
   "metadata": {},
   "outputs": [
    {
     "name": "stdout",
     "output_type": "stream",
     "text": [
      "4.4196955672002495e-06\n"
     ]
    }
   ],
   "source": [
    "vanna = bsp.calc_vanna(spot, K, r, vol, tau, isCall)\n",
    "print(vanna)"
   ]
  },
  {
   "cell_type": "code",
   "execution_count": 14,
   "metadata": {},
   "outputs": [
    {
     "name": "stdout",
     "output_type": "stream",
     "text": [
      "4.419695567200249e-06\n"
     ]
    }
   ],
   "source": [
    "vanna2 = bsp.calc_vanna2(spot, K, r, vol, tau, isCall)\n",
    "print(vanna2)"
   ]
  },
  {
   "cell_type": "code",
   "execution_count": 15,
   "metadata": {},
   "outputs": [
    {
     "name": "stdout",
     "output_type": "stream",
     "text": [
      "4.2378042464299665e-06\n"
     ]
    }
   ],
   "source": [
    "vomma = bsp.calc_vomma(spot, K, r, vol, tau, isCall)\n",
    "print(vomma)"
   ]
  },
  {
   "cell_type": "code",
   "execution_count": 16,
   "metadata": {},
   "outputs": [
    {
     "name": "stdout",
     "output_type": "stream",
     "text": [
      "-0.0072447589582398135\n"
     ]
    }
   ],
   "source": [
    "charm = bsp.calc_charm(spot, K, r, vol, tau, isCall)\n",
    "print(charm)"
   ]
  },
  {
   "cell_type": "code",
   "execution_count": 17,
   "metadata": {},
   "outputs": [
    {
     "name": "stdout",
     "output_type": "stream",
     "text": [
      "-0.00011039581812970285\n"
     ]
    }
   ],
   "source": [
    "veta = bsp.calc_veta(spot, K, r, vol, tau, isCall)\n",
    "print(veta)"
   ]
  },
  {
   "cell_type": "code",
   "execution_count": 18,
   "metadata": {},
   "outputs": [
    {
     "name": "stdout",
     "output_type": "stream",
     "text": [
      "0.007915237954300948\n"
     ]
    }
   ],
   "source": [
    "speed = bsp.calc_speed(spot, K, r, vol, tau, isCall)\n",
    "print(speed)"
   ]
  },
  {
   "cell_type": "code",
   "execution_count": 19,
   "metadata": {},
   "outputs": [
    {
     "name": "stdout",
     "output_type": "stream",
     "text": [
      "-0.16557564780907347\n"
     ]
    }
   ],
   "source": [
    "zomma = bsp.calc_zomma(spot, K, r, vol, tau, isCall)\n",
    "print(zomma)"
   ]
  },
  {
   "cell_type": "code",
   "execution_count": 20,
   "metadata": {},
   "outputs": [
    {
     "name": "stdout",
     "output_type": "stream",
     "text": [
      "-0.23372918879993368\n"
     ]
    }
   ],
   "source": [
    "color = bsp.calc_color(spot, K, r, vol, tau, isCall)\n",
    "print(color)"
   ]
  },
  {
   "cell_type": "code",
   "execution_count": 21,
   "metadata": {
    "scrolled": true
   },
   "outputs": [
    {
     "name": "stdout",
     "output_type": "stream",
     "text": [
      "                     derek    checks\n",
      "underlyingPrice   2.874500  2.874500\n",
      "optionPrice       0.028200  0.028200\n",
      "vol               0.227984  0.227984\n",
      "delta             0.410868  0.000411\n",
      "gamma             4.008858  4.008862\n",
      "theta            -0.002453 -0.002453\n",
      "vega              0.001655  0.001655\n",
      "rho               0.000253  0.000253\n",
      "vanna             0.441969  0.000004\n",
      "vomma             0.000424  0.000004\n",
      "charm            -2.644335 -0.007245\n",
      "veta             -4.029447 -0.000110\n",
      "speed             7.915208  0.007915\n",
      "zomma           -16.557532 -0.165576\n",
      "color            85.311080 -0.233729\n"
     ]
    }
   ],
   "source": [
    "# create array\n",
    "checkList = [spot, call_px, vol, delta, gamma, theta, vega, rho, vanna, \n",
    "            vomma, charm, veta, speed, zomma, color]\n",
    "derek_greeks[\"checks\"] = checkList\n",
    "print(derek_greeks)"
   ]
  },
  {
   "cell_type": "markdown",
   "metadata": {},
   "source": [
    "# CHANGES TO GREEKS"
   ]
  },
  {
   "cell_type": "markdown",
   "metadata": {},
   "source": [
    "Delta check"
   ]
  },
  {
   "cell_type": "code",
   "execution_count": 22,
   "metadata": {},
   "outputs": [
    {
     "name": "stdout",
     "output_type": "stream",
     "text": [
      "change up: 0.0004128733415058594\n",
      "change down: 0.00040886451430388604\n"
     ]
    }
   ],
   "source": [
    "# delta check\n",
    "spot_up = bsp.calc_call(spot+spot_tick_incr, K, r, vol, tau)\n",
    "spot_down = bsp.calc_call(spot-spot_tick_incr, K, r, vol, tau)\n",
    "print(\"change up: %s\" %(spot_up - call_px))\n",
    "print(\"change down: %s\" %(call_px - spot_down))"
   ]
  },
  {
   "cell_type": "code",
   "execution_count": 58,
   "metadata": {},
   "outputs": [
    {
     "data": {
      "text/plain": [
       "0.41086760871584566"
      ]
     },
     "execution_count": 58,
     "metadata": {},
     "output_type": "execute_result"
    }
   ],
   "source": [
    "# convert delta to option price\n",
    "delta * spot_tick_value / spot_tick_incr"
   ]
  },
  {
   "cell_type": "markdown",
   "metadata": {},
   "source": [
    "Gamma check"
   ]
  },
  {
   "cell_type": "code",
   "execution_count": 56,
   "metadata": {},
   "outputs": [
    {
     "name": "stdout",
     "output_type": "stream",
     "text": [
      "change up: 4.012750318848626e-06\n",
      "change down: 4.004835252700064e-06\n"
     ]
    }
   ],
   "source": [
    "# gamma check\n",
    "delta_up = bsp.calc_delta(spot+spot_tick_incr, K, r, vol, tau, isCall)\n",
    "delta_down = bsp.calc_delta(spot-spot_tick_incr, K, r, vol, tau, isCall)\n",
    "print(\"change up: %s\" %(delta_up - delta))\n",
    "print(\"change down: %s\" %(delta - delta_down))"
   ]
  },
  {
   "cell_type": "code",
   "execution_count": 55,
   "metadata": {},
   "outputs": [
    {
     "data": {
      "text/plain": [
       "0.00400886161947823"
      ]
     },
     "execution_count": 55,
     "metadata": {},
     "output_type": "execute_result"
    }
   ],
   "source": [
    "# delta change per tick\n",
    "gamma * spot_tick_incr"
   ]
  },
  {
   "cell_type": "markdown",
   "metadata": {},
   "source": [
    "Vega check"
   ]
  },
  {
   "cell_type": "code",
   "execution_count": 26,
   "metadata": {},
   "outputs": [
    {
     "name": "stdout",
     "output_type": "stream",
     "text": [
      "change up: 0.001657218365953339\n",
      "change down: 0.0016529727114604764\n"
     ]
    }
   ],
   "source": [
    "# vega check\n",
    "vol_up = bsp.calc_call(spot, K, r, vol+0.01, tau)\n",
    "vol_down = bsp.calc_call(spot, K, r, vol-0.01, tau)\n",
    "print(\"change up: %s\" %(vol_up - call_px))\n",
    "print(\"change down: %s\" %(call_px - vol_down))"
   ]
  },
  {
   "cell_type": "code",
   "execution_count": 52,
   "metadata": {},
   "outputs": [
    {
     "data": {
      "text/plain": [
       "0.001655187442830446"
      ]
     },
     "execution_count": 52,
     "metadata": {},
     "output_type": "execute_result"
    }
   ],
   "source": [
    "vega"
   ]
  },
  {
   "cell_type": "code",
   "execution_count": 53,
   "metadata": {},
   "outputs": [
    {
     "data": {
      "text/plain": [
       "16.57218365953339"
      ]
     },
     "execution_count": 53,
     "metadata": {},
     "output_type": "execute_result"
    }
   ],
   "source": [
    "# convert vega to RMB \n",
    "(vol_up - call_px) * opt_tick_value / opt_tick_incr"
   ]
  },
  {
   "cell_type": "markdown",
   "metadata": {},
   "source": [
    "Theta check"
   ]
  },
  {
   "cell_type": "code",
   "execution_count": 28,
   "metadata": {},
   "outputs": [
    {
     "name": "stdout",
     "output_type": "stream",
     "text": [
      "change up: 0.002388909394126726\n",
      "change down: 0.002525478638872203\n"
     ]
    }
   ],
   "source": [
    "tau_up = bsp.calc_call(spot, K, r, vol, tau + 1./365)\n",
    "tau_down = bsp.calc_call(spot, K, r, vol, tau - 1./365)\n",
    "print(\"change up: %s\" %(tau_up - call_px))\n",
    "print(\"change down: %s\" %(call_px - tau_down))"
   ]
  },
  {
   "cell_type": "code",
   "execution_count": 29,
   "metadata": {},
   "outputs": [
    {
     "name": "stdout",
     "output_type": "stream",
     "text": [
      "-0.0024532304762406257\n"
     ]
    }
   ],
   "source": [
    "print(theta)"
   ]
  },
  {
   "cell_type": "markdown",
   "metadata": {},
   "source": [
    "Rho check"
   ]
  },
  {
   "cell_type": "code",
   "execution_count": 30,
   "metadata": {},
   "outputs": [
    {
     "name": "stdout",
     "output_type": "stream",
     "text": [
      "change up: 0.0002534453036091566\n",
      "change down: 0.00025190943465380755\n"
     ]
    }
   ],
   "source": [
    "rho_up = bsp.calc_call(spot, K, r+0.01, vol, tau)\n",
    "rho_down = bsp.calc_call(spot, K, r-0.01, vol, tau)\n",
    "print(\"change up: %s\" %(rho_up - call_px))\n",
    "print(\"change down: %s\" %(call_px - rho_down))"
   ]
  },
  {
   "cell_type": "code",
   "execution_count": 31,
   "metadata": {},
   "outputs": [
    {
     "name": "stdout",
     "output_type": "stream",
     "text": [
      "0.0002526770372040641\n"
     ]
    }
   ],
   "source": [
    "print(rho)"
   ]
  },
  {
   "cell_type": "markdown",
   "metadata": {},
   "source": [
    "Vanna check"
   ]
  },
  {
   "cell_type": "code",
   "execution_count": 32,
   "metadata": {},
   "outputs": [
    {
     "name": "stdout",
     "output_type": "stream",
     "text": [
      "change up: 4.336709083007772e-06\n",
      "change down: 4.502280459408063e-06\n"
     ]
    }
   ],
   "source": [
    "# vanna check -> change vega for change in spot\n",
    "vega_spot_up = bsp.calc_vega(spot + spot_tick_incr, K, r, vol, tau)\n",
    "vega_spot_down = bsp.calc_vega(spot - spot_tick_incr, K, r, vol, tau)\n",
    "print(\"change up: %s\" %(vega_spot_up - vega))\n",
    "print(\"change down: %s\" %(vega - vega_spot_down))"
   ]
  },
  {
   "cell_type": "code",
   "execution_count": 33,
   "metadata": {},
   "outputs": [
    {
     "name": "stdout",
     "output_type": "stream",
     "text": [
      "0.001655187442830446\n",
      "4.4196955672002495e-06\n",
      "4.419695567200249e-06\n"
     ]
    }
   ],
   "source": [
    "print(vega)\n",
    "print(vanna) # in terms of vega\n",
    "print(vanna2)"
   ]
  },
  {
   "cell_type": "code",
   "execution_count": 34,
   "metadata": {},
   "outputs": [
    {
     "data": {
      "text/plain": [
       "0.044196955672002484"
      ]
     },
     "execution_count": 34,
     "metadata": {},
     "output_type": "execute_result"
    }
   ],
   "source": [
    "# convert vega to RMB\n",
    "vanna2 / opt_tick_incr * opt_tick_value"
   ]
  },
  {
   "cell_type": "markdown",
   "metadata": {},
   "source": [
    "Vomma check"
   ]
  },
  {
   "cell_type": "code",
   "execution_count": 35,
   "metadata": {},
   "outputs": [
    {
     "name": "stdout",
     "output_type": "stream",
     "text": [
      "change up: 3.977471898004674e-06\n",
      "change down: 4.529565896017624e-06\n"
     ]
    }
   ],
   "source": [
    "# vomma check -> change vega for change in vol\n",
    "vega_vol_up = bsp.calc_vega(spot, K, r, vol + 0.01, tau)\n",
    "vega_vol_down = bsp.calc_vega(spot, K, r, vol - 0.01, tau)\n",
    "print(\"change up: %s\" %(vega_vol_up - vega))\n",
    "print(\"change down: %s\" %(vega - vega_vol_down))"
   ]
  },
  {
   "cell_type": "code",
   "execution_count": 36,
   "metadata": {},
   "outputs": [
    {
     "name": "stdout",
     "output_type": "stream",
     "text": [
      "4.2378042464299665e-06\n"
     ]
    }
   ],
   "source": [
    "print(vomma) # in terms of vega"
   ]
  },
  {
   "cell_type": "code",
   "execution_count": 37,
   "metadata": {},
   "outputs": [
    {
     "data": {
      "text/plain": [
       "0.042378042464299666"
      ]
     },
     "execution_count": 37,
     "metadata": {},
     "output_type": "execute_result"
    }
   ],
   "source": [
    "# convert vega to RMB\n",
    "vomma / opt_tick_incr * opt_tick_value"
   ]
  },
  {
   "cell_type": "markdown",
   "metadata": {},
   "source": [
    "Veta check"
   ]
  },
  {
   "cell_type": "code",
   "execution_count": 38,
   "metadata": {},
   "outputs": [
    {
     "name": "stdout",
     "output_type": "stream",
     "text": [
      "change up: 0.00010694933047569765\n",
      "change down: 0.00011432799780059389\n"
     ]
    }
   ],
   "source": [
    "# veta check -> change vega for change in tau\n",
    "vega_tau_up = bsp.calc_vega(spot, K, r, vol, tau + 1./365)\n",
    "vega_tau_down = bsp.calc_vega(spot, K, r, vol, tau - 1./365)\n",
    "print(\"change up: %s\" %(vega_tau_up - vega))\n",
    "print(\"change down: %s\" %(vega - vega_tau_down))"
   ]
  },
  {
   "cell_type": "code",
   "execution_count": 39,
   "metadata": {},
   "outputs": [
    {
     "name": "stdout",
     "output_type": "stream",
     "text": [
      "-0.00011039581812970285\n"
     ]
    }
   ],
   "source": [
    "print(veta) # vega decay per day"
   ]
  },
  {
   "cell_type": "code",
   "execution_count": 40,
   "metadata": {},
   "outputs": [
    {
     "data": {
      "text/plain": [
       "-1.1039581812970285"
      ]
     },
     "execution_count": 40,
     "metadata": {},
     "output_type": "execute_result"
    }
   ],
   "source": [
    "# convert vega to RMB\n",
    "veta / opt_tick_incr * opt_tick_value"
   ]
  },
  {
   "cell_type": "markdown",
   "metadata": {},
   "source": [
    "Charm check"
   ]
  },
  {
   "cell_type": "code",
   "execution_count": 41,
   "metadata": {},
   "outputs": [
    {
     "name": "stdout",
     "output_type": "stream",
     "text": [
      "change up: 6.691019503672407e-06\n",
      "change down: 7.921583641751716e-06\n"
     ]
    }
   ],
   "source": [
    "# charm check -> change delta for change in tau\n",
    "delta_tau_up = bsp.calc_delta(spot, K, r, vol, tau + 1./365)\n",
    "delta_tau_down = bsp.calc_delta(spot, K, r, vol, tau - 1./365)\n",
    "print(\"change up: %s\" %(delta_tau_up - delta))\n",
    "print(\"change down: %s\" %(delta - delta_tau_down))"
   ]
  },
  {
   "cell_type": "code",
   "execution_count": 42,
   "metadata": {},
   "outputs": [
    {
     "name": "stdout",
     "output_type": "stream",
     "text": [
      "-0.0072447589582398135\n"
     ]
    }
   ],
   "source": [
    "print(charm) # delta decay per day"
   ]
  },
  {
   "cell_type": "markdown",
   "metadata": {},
   "source": [
    "Speed check"
   ]
  },
  {
   "cell_type": "code",
   "execution_count": 43,
   "metadata": {},
   "outputs": [
    {
     "name": "stdout",
     "output_type": "stream",
     "text": [
      "change up: 0.007708395407793667\n",
      "change down: 0.008121393282640277\n"
     ]
    }
   ],
   "source": [
    "# speed check -> change in gamma for change in spot\n",
    "gamma_spot_up = bsp.calc_gamma(spot+spot_tick_incr, K, r, vol, tau)\n",
    "gamma_spot_down = bsp.calc_gamma(spot-spot_tick_incr, K, r, vol, tau)\n",
    "print(\"change up: %s\" %(gamma_spot_up - gamma))\n",
    "print(\"change down: %s\" %(gamma - gamma_spot_down))"
   ]
  },
  {
   "cell_type": "code",
   "execution_count": 44,
   "metadata": {},
   "outputs": [
    {
     "name": "stdout",
     "output_type": "stream",
     "text": [
      "0.007915237954300948\n"
     ]
    }
   ],
   "source": [
    "print(speed)  # gamma per tick"
   ]
  },
  {
   "cell_type": "code",
   "execution_count": 45,
   "metadata": {},
   "outputs": [
    {
     "data": {
      "text/plain": [
       "7.915237954300949e-06"
      ]
     },
     "execution_count": 45,
     "metadata": {},
     "output_type": "execute_result"
    }
   ],
   "source": [
    "# convert gamma to delta\n",
    "speed * spot_tick_incr"
   ]
  },
  {
   "cell_type": "markdown",
   "metadata": {},
   "source": [
    "Zomma check"
   ]
  },
  {
   "cell_type": "code",
   "execution_count": 46,
   "metadata": {},
   "outputs": [
    {
     "name": "stdout",
     "output_type": "stream",
     "text": [
      "change up: -0.15922225025608716\n",
      "change down: -0.17243235485396813\n"
     ]
    }
   ],
   "source": [
    "# zomma check -> change in gamma for change in vol\n",
    "gamma_vol_up = bsp.calc_gamma(spot, K, r, vol+0.01, tau)\n",
    "gamma_vol_down = bsp.calc_gamma(spot, K, r, vol-0.01, tau)\n",
    "print(\"change up: %s\" %(gamma_vol_up - gamma))\n",
    "print(\"change down: %s\" %(gamma - gamma_vol_down))"
   ]
  },
  {
   "cell_type": "code",
   "execution_count": 47,
   "metadata": {},
   "outputs": [
    {
     "name": "stdout",
     "output_type": "stream",
     "text": [
      "-0.16557564780907347\n"
     ]
    }
   ],
   "source": [
    "print(zomma) # change in gamma for vol change"
   ]
  },
  {
   "cell_type": "code",
   "execution_count": 48,
   "metadata": {},
   "outputs": [
    {
     "data": {
      "text/plain": [
       "-0.00016557564780907347"
      ]
     },
     "execution_count": 48,
     "metadata": {},
     "output_type": "execute_result"
    }
   ],
   "source": [
    "# convert gamma to delta\n",
    "zomma * spot_tick_incr"
   ]
  },
  {
   "cell_type": "markdown",
   "metadata": {},
   "source": [
    "Color check"
   ]
  },
  {
   "cell_type": "code",
   "execution_count": 49,
   "metadata": {},
   "outputs": [
    {
     "name": "stdout",
     "output_type": "stream",
     "text": [
      "change up: -0.21517917952814747\n",
      "change down: -0.2562348060118671\n"
     ]
    }
   ],
   "source": [
    "# color check\n",
    "gamma_tau_up = bsp.calc_gamma(spot, K, r, vol, tau+1./365)\n",
    "gamma_tau_down = bsp.calc_gamma(spot, K, r, vol, tau-1./365)\n",
    "print(\"change up: %s\" %(gamma_tau_up - gamma))\n",
    "print(\"change down: %s\" %(gamma - gamma_tau_down))"
   ]
  },
  {
   "cell_type": "code",
   "execution_count": 50,
   "metadata": {},
   "outputs": [
    {
     "name": "stdout",
     "output_type": "stream",
     "text": [
      "-0.23372918879993368\n"
     ]
    }
   ],
   "source": [
    "print(color) # gamma decay per day"
   ]
  },
  {
   "cell_type": "code",
   "execution_count": 51,
   "metadata": {},
   "outputs": [
    {
     "data": {
      "text/plain": [
       "-0.00023372918879993368"
      ]
     },
     "execution_count": 51,
     "metadata": {},
     "output_type": "execute_result"
    }
   ],
   "source": [
    "# convert gamma to delta\n",
    "color * spot_tick_incr"
   ]
  }
 ],
 "metadata": {
  "kernelspec": {
   "display_name": "Python 3",
   "language": "python",
   "name": "python3"
  },
  "language_info": {
   "codemirror_mode": {
    "name": "ipython",
    "version": 3
   },
   "file_extension": ".py",
   "mimetype": "text/x-python",
   "name": "python",
   "nbconvert_exporter": "python",
   "pygments_lexer": "ipython3",
   "version": "3.6.4"
  }
 },
 "nbformat": 4,
 "nbformat_minor": 1
}
